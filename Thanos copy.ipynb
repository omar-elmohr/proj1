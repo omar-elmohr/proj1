{
 "cells": [
  {
   "cell_type": "markdown",
   "metadata": {},
   "source": [
    "<img src=\"thanos.jpg\">"
   ]
  },
  {
   "cell_type": "code",
   "execution_count": 39,
   "metadata": {},
   "outputs": [],
   "source": [
    "import os \n",
    "import uuid\n"
   ]
  },
  {
   "cell_type": "code",
   "execution_count": 40,
   "metadata": {},
   "outputs": [],
   "source": [
    "# Get al  the image names in universe folder and add them to a list\n",
    "def get_image_names(path):\n",
    "    names=os.listdir(path)\n",
    "    return names"
   ]
  },
  {
   "cell_type": "code",
   "execution_count": 41,
   "metadata": {},
   "outputs": [
    {
     "output_type": "execute_result",
     "data": {
      "text/plain": [
       "['0bc606e7-d07a-4aa2-a88d-8968d4bd2e2d.png',\n",
       " '0bda5dc6-38b9-4e64-9578-540ee66e8da4.png',\n",
       " '0c6bff64-8e6e-4c49-978e-c996f19f9de6.png',\n",
       " '0d693d78-7604-4ded-a269-3469e56a778a.png',\n",
       " '10ef9d69-86ca-4bad-99ca-1a31b470007e.png',\n",
       " '174d2978-0051-42f7-a9ad-a03b3b681556.png',\n",
       " '187c27a1-95be-4a57-8d9c-69bb6ee573ae.png',\n",
       " '19e90fa3-0ea5-4d41-80f0-b9ed5288e958.png',\n",
       " '2180247a-f763-4267-a6ba-0cda925f2c70.png',\n",
       " '23216bb1-4e38-4fd9-b034-e87969dfbb72.png',\n",
       " '259c375b-5adf-415b-89eb-5fdbe989ae54.png',\n",
       " '25c47abd-6d37-42de-b9ed-331fac255882.png',\n",
       " '29b65e8a-d774-417d-97e4-e47e3a86da9b.png',\n",
       " '2a4af52e-2186-4973-ad0e-b5ae17f1c0a7.png',\n",
       " '3674ae22-c758-4e09-97be-00db86f8db31.png',\n",
       " '382907e9-f6aa-4c14-9ff5-2412e45e6071.png',\n",
       " '41cfb074-7925-4383-8655-e224d6e65717.png',\n",
       " '442c5306-5760-4290-9daa-329436101bca.png',\n",
       " '4a758fa3-bec6-42e2-ace1-349c138811e5.png',\n",
       " '4c3cc08b-e9e6-4a56-b534-737d8a197c59.png',\n",
       " '4d81ea7e-ac90-4c99-94e9-1d471d0c0894.png',\n",
       " '50476f01-54c3-476a-aa52-300537bfb48d.png',\n",
       " '5141477a-c75b-4aaf-931e-dfcbd9e4f49b.png',\n",
       " '5587a0a8-fe29-4808-88cf-06d4aa263348.png',\n",
       " '55b9a87a-dee4-44ab-bea1-968daccefb75.png',\n",
       " '56f27307-4115-4e77-b204-e90428ea52be.png',\n",
       " '6093f3b8-7b26-4db5-a981-7c6be8e7b534.png',\n",
       " '6889ce47-2610-43ec-b36c-83883c08b338.png',\n",
       " '7d596e63-60de-4153-ad7d-daa47136a9e8.png',\n",
       " '8758a48b-9ca3-4d28-b56f-c38a6acdc9b0.png',\n",
       " '8a9828f8-43b4-4991-82f2-ef151d536f69.png',\n",
       " '8d4f9413-a99e-45b9-9cf4-a2142c892eb6.png',\n",
       " '95486e70-d5e8-409b-b172-623bcb8cc32e.png',\n",
       " '97bbf3ba-e790-493a-94d9-a4248fff1c7a.png',\n",
       " '99b6202c-d37a-4834-9e95-3432ee17d49f.png',\n",
       " '9a03cf9f-2fa9-4185-bd5d-cc05ec051876.png',\n",
       " 'afabf58d-aec2-4ec1-9d09-d543bcafe18a.png',\n",
       " 'b121579d-2adc-4e6c-9c83-4325416ca0cb.png',\n",
       " 'b588cfe6-467b-44ad-8358-dbb14207e6e6.png',\n",
       " 'b7329bde-117a-487c-8580-52df9523faff.png',\n",
       " 'c1f1c6f1-296f-4757-8cab-a9cc0594cd66.png',\n",
       " 'c6e872ed-d26c-4b99-bd08-05c0e1e2d661.png',\n",
       " 'cb9d205b-0aef-44b4-916c-df5037d3447b.png',\n",
       " 'd0612532-76ee-4525-95c0-a2fa8feabeb7.png',\n",
       " 'd16edec5-978d-4ce9-947f-0a8fa20b3815.png',\n",
       " 'e6e97477-135f-44af-8f90-c0402af53b1e.png',\n",
       " 'e918090d-3b5b-4459-83bf-4ce58c3fd231.png',\n",
       " 'ebbd1804-2d24-45e1-9b0b-7ca35529424b.png',\n",
       " 'fbeb9f40-4df9-4d96-b326-229602a8bc7b.png',\n",
       " 'fd9ea111-c782-49ab-a515-a698c9067516.png']"
      ]
     },
     "metadata": {},
     "execution_count": 41
    }
   ],
   "source": [
    "names=get_image_names('universe')\n",
    "names"
   ]
  },
  {
   "cell_type": "code",
   "execution_count": 42,
   "metadata": {},
   "outputs": [],
   "source": [
    "#create rndom unique name using uuid4\n",
    "def random_name():\n",
    "    new_name=str(uuid.uuid4())+'.png'\n",
    "    return new_name\n"
   ]
  },
  {
   "cell_type": "code",
   "execution_count": 43,
   "metadata": {},
   "outputs": [
    {
     "output_type": "execute_result",
     "data": {
      "text/plain": [
       "'ce70d913-7d11-48bd-97a8-1daa988afb2a.png'"
      ]
     },
     "metadata": {},
     "execution_count": 43
    }
   ],
   "source": [
    "name22= random_name()\n",
    "name22"
   ]
  },
  {
   "cell_type": "code",
   "execution_count": 44,
   "metadata": {},
   "outputs": [],
   "source": [
    "# rename the images to ne unique random names.\n",
    "def renaming(names):\n",
    "    for name in names:\n",
    "        new_name=random_name()\n",
    "        print('Changinging'+name+' to '+new_name)\n",
    "        os.rename('universe/'+name,'universe/'+new_name)\n",
    "        "
   ]
  },
  {
   "cell_type": "code",
   "execution_count": 45,
   "metadata": {},
   "outputs": [
    {
     "output_type": "stream",
     "name": "stdout",
     "text": [
      "Changinging0bc606e7-d07a-4aa2-a88d-8968d4bd2e2d.png to a2122579-b6a1-4ae1-86aa-943a20ab6147.png\nChanginging0bda5dc6-38b9-4e64-9578-540ee66e8da4.png to 310210a5-5f47-4ad7-99b2-6a7e593e8458.png\nChanginging0c6bff64-8e6e-4c49-978e-c996f19f9de6.png to 2365e042-9a8a-488d-8c8d-d2cbd045daea.png\nChanginging0d693d78-7604-4ded-a269-3469e56a778a.png to d9073e24-7b32-412f-af65-023ea5187864.png\nChanginging10ef9d69-86ca-4bad-99ca-1a31b470007e.png to ad1fa21b-c613-4c73-b916-4d5873f77f57.png\nChanginging174d2978-0051-42f7-a9ad-a03b3b681556.png to 6e1e4954-286b-492f-9235-e0f80ec17650.png\nChanginging187c27a1-95be-4a57-8d9c-69bb6ee573ae.png to a9894d60-bc54-49f3-91a2-d02f731b9641.png\nChanginging19e90fa3-0ea5-4d41-80f0-b9ed5288e958.png to 391a15f6-81e8-4235-af79-5a76ed978082.png\nChanginging2180247a-f763-4267-a6ba-0cda925f2c70.png to f6a2ed8f-9e20-43dd-b727-f07d3a18886c.png\nChanginging23216bb1-4e38-4fd9-b034-e87969dfbb72.png to 801e2429-fc85-471c-ac17-43ce5619c58e.png\nChanginging259c375b-5adf-415b-89eb-5fdbe989ae54.png to 57cd7cda-dbc6-4031-bdf7-111357e70d05.png\nChanginging25c47abd-6d37-42de-b9ed-331fac255882.png to a64469b3-9509-429f-98a6-9bc074ce50ba.png\nChanginging29b65e8a-d774-417d-97e4-e47e3a86da9b.png to 02f84f96-6d09-48b4-8fa8-aee819211f77.png\nChanginging2a4af52e-2186-4973-ad0e-b5ae17f1c0a7.png to 124e9f2b-654f-46d4-93f4-e4eba85f2bd0.png\nChanginging3674ae22-c758-4e09-97be-00db86f8db31.png to 03305f3b-c920-4cf7-9dae-5964b4aef07e.png\nChanginging382907e9-f6aa-4c14-9ff5-2412e45e6071.png to ead68365-1399-4b96-8066-db4414771884.png\nChanginging41cfb074-7925-4383-8655-e224d6e65717.png to a0c95625-3911-4ee5-b113-b6a18904355d.png\nChanginging442c5306-5760-4290-9daa-329436101bca.png to e1ac5cd3-8bf6-4c68-a163-79f521d30212.png\nChanginging4a758fa3-bec6-42e2-ace1-349c138811e5.png to 25befc7e-eda0-4632-9862-52fc2ff553f7.png\nChanginging4c3cc08b-e9e6-4a56-b534-737d8a197c59.png to c017a5e1-062f-44f4-a40b-40c048a45812.png\nChanginging4d81ea7e-ac90-4c99-94e9-1d471d0c0894.png to 5b19dfde-9dfc-4b46-99f9-01adcbaacd1a.png\nChanginging50476f01-54c3-476a-aa52-300537bfb48d.png to 8326bdec-9538-41dd-8b27-de2487209bc2.png\nChanginging5141477a-c75b-4aaf-931e-dfcbd9e4f49b.png to 704ecbf0-68a0-4b17-a2eb-27070ab80445.png\nChanginging5587a0a8-fe29-4808-88cf-06d4aa263348.png to 53a8e493-0f19-4a6f-b83d-09b6816c4c84.png\nChanginging55b9a87a-dee4-44ab-bea1-968daccefb75.png to 2a3ccadb-b55f-47a1-ba11-acb0072bd19e.png\nChanginging56f27307-4115-4e77-b204-e90428ea52be.png to ee0e10b2-ad7c-49c5-81d4-91d13264b4c0.png\nChanginging6093f3b8-7b26-4db5-a981-7c6be8e7b534.png to 7c5cc7e9-fd58-4c42-9020-0e7f0889d850.png\nChanginging6889ce47-2610-43ec-b36c-83883c08b338.png to 39cc6f6b-5d19-47be-ae49-027d8af6619d.png\nChanginging7d596e63-60de-4153-ad7d-daa47136a9e8.png to 4c9a794d-f8ef-4631-aa0f-ba17d8f2e791.png\nChanginging8758a48b-9ca3-4d28-b56f-c38a6acdc9b0.png to b50d81cc-5b23-40a2-bdf1-fe17e0bcedbd.png\nChanginging8a9828f8-43b4-4991-82f2-ef151d536f69.png to 0bd1bd44-cef2-4b07-a860-aec74bf65389.png\nChanginging8d4f9413-a99e-45b9-9cf4-a2142c892eb6.png to 837ac616-21fb-4c84-beed-5de3339e48a1.png\nChanginging95486e70-d5e8-409b-b172-623bcb8cc32e.png to 76182f3c-79ea-467d-82e3-c012ea41b0a9.png\nChanginging97bbf3ba-e790-493a-94d9-a4248fff1c7a.png to 2caf9484-1973-4827-8baa-349e9b50b691.png\nChanginging99b6202c-d37a-4834-9e95-3432ee17d49f.png to 87f41eb3-381f-4fbb-961d-3472ae882ffc.png\nChanginging9a03cf9f-2fa9-4185-bd5d-cc05ec051876.png to 95fb33a6-9ba3-482b-a649-34b7818e0cb6.png\nChangingingafabf58d-aec2-4ec1-9d09-d543bcafe18a.png to e962ae95-47b5-455c-8378-8745fa9a235c.png\nChangingingb121579d-2adc-4e6c-9c83-4325416ca0cb.png to 8247de09-92e8-40aa-9172-ed31a96aa804.png\nChangingingb588cfe6-467b-44ad-8358-dbb14207e6e6.png to 15241790-60a5-436d-a092-703f092d9637.png\nChangingingb7329bde-117a-487c-8580-52df9523faff.png to ce0fe43d-11c6-4382-a6d2-ab0e4c8a590d.png\nChangingingc1f1c6f1-296f-4757-8cab-a9cc0594cd66.png to 84108d0d-a0a0-45c2-9fc7-af7291e85d4f.png\nChangingingc6e872ed-d26c-4b99-bd08-05c0e1e2d661.png to 373d8bb8-cc99-4426-8df2-0a676838cf6c.png\nChangingingcb9d205b-0aef-44b4-916c-df5037d3447b.png to 6cc1c285-3f52-4bcb-b292-809b7d627cf7.png\nChangingingd0612532-76ee-4525-95c0-a2fa8feabeb7.png to 1ee175fe-b77f-4c6f-ae5c-fa36474b01ab.png\nChangingingd16edec5-978d-4ce9-947f-0a8fa20b3815.png to b160d8e2-aa5e-4d24-b427-df53993471ae.png\nChanginginge6e97477-135f-44af-8f90-c0402af53b1e.png to b6f2e644-1ef8-4677-9a32-15ef8e17afc4.png\nChanginginge918090d-3b5b-4459-83bf-4ce58c3fd231.png to f1e9220c-eba5-4619-bce9-3906774f3c39.png\nChangingingebbd1804-2d24-45e1-9b0b-7ca35529424b.png to 0343e6c0-b77f-48fb-9706-839952dac3c0.png\nChangingingfbeb9f40-4df9-4d96-b326-229602a8bc7b.png to c5e4902b-0675-4608-ad2a-4e6574a0918b.png\nChangingingfd9ea111-c782-49ab-a515-a698c9067516.png to 99f52860-bdba-46aa-a357-59e18f51cf4e.png\n"
     ]
    }
   ],
   "source": [
    "renaming(names)"
   ]
  },
  {
   "cell_type": "code",
   "execution_count": 46,
   "metadata": {},
   "outputs": [
    {
     "output_type": "execute_result",
     "data": {
      "text/plain": [
       "50"
      ]
     },
     "metadata": {},
     "execution_count": 46
    }
   ],
   "source": [
    "len(names)"
   ]
  },
  {
   "cell_type": "code",
   "execution_count": null,
   "metadata": {},
   "outputs": [],
   "source": []
  }
 ],
 "metadata": {
  "kernelspec": {
   "name": "python3",
   "display_name": "Python 3.9.2 64-bit"
  },
  "language_info": {
   "codemirror_mode": {
    "name": "ipython",
    "version": 3
   },
   "file_extension": ".py",
   "mimetype": "text/x-python",
   "name": "python",
   "nbconvert_exporter": "python",
   "pygments_lexer": "ipython3",
   "version": "3.9.2-final"
  },
  "interpreter": {
   "hash": "e922dd073470bdcc017ae3abd31d6491d6ed7bf31c1d559806e5511bfea88b81"
  }
 },
 "nbformat": 4,
 "nbformat_minor": 2
}